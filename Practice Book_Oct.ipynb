{
 "cells": [
  {
   "cell_type": "code",
   "execution_count": 1,
   "id": "7de87f24",
   "metadata": {},
   "outputs": [],
   "source": [
    "import numpy as np\n",
    "import pandas as pd"
   ]
  },
  {
   "cell_type": "markdown",
   "id": "c7dc6180",
   "metadata": {},
   "source": [
    "#1. create a function named 'factor' that can only accept 1 argument. The function should return the factorial of that number"
   ]
  },
  {
   "cell_type": "code",
   "execution_count": 24,
   "id": "2600b29f",
   "metadata": {},
   "outputs": [],
   "source": [
    "def factor(n):\n",
    "    \n",
    "    if n<0:\n",
    "        print('Does not exist')\n",
    "    \n",
    "    else:\n",
    "        fact = 1    \n",
    "        for i in range (1,n):\n",
    "            fact = fact*n\n",
    "            n=n-1\n",
    "        print(f'The Factorial of {n} is', fact)"
   ]
  },
  {
   "cell_type": "code",
   "execution_count": 25,
   "id": "ff15bbf1",
   "metadata": {},
   "outputs": [
    {
     "name": "stdout",
     "output_type": "stream",
     "text": [
      "The Factorial of 1 is 3628800\n"
     ]
    }
   ],
   "source": [
    "factor(10)"
   ]
  },
  {
   "cell_type": "code",
   "execution_count": 26,
   "id": "7c43af9c",
   "metadata": {},
   "outputs": [
    {
     "name": "stdout",
     "output_type": "stream",
     "text": [
      "The Factorial of 0 is 1\n"
     ]
    }
   ],
   "source": [
    "factor(0)"
   ]
  },
  {
   "cell_type": "code",
   "execution_count": 27,
   "id": "371a4e71",
   "metadata": {},
   "outputs": [
    {
     "name": "stdout",
     "output_type": "stream",
     "text": [
      "The Factorial of 1 is 1\n"
     ]
    }
   ],
   "source": [
    "factor(1)"
   ]
  },
  {
   "cell_type": "code",
   "execution_count": 28,
   "id": "0d3a7a49",
   "metadata": {},
   "outputs": [
    {
     "name": "stdout",
     "output_type": "stream",
     "text": [
      "The Factorial of 1 is 2\n"
     ]
    }
   ],
   "source": [
    "factor(2)"
   ]
  },
  {
   "cell_type": "code",
   "execution_count": 29,
   "id": "b6c4bdd0",
   "metadata": {},
   "outputs": [
    {
     "name": "stdout",
     "output_type": "stream",
     "text": [
      "Does not exist\n"
     ]
    }
   ],
   "source": [
    "factor(-1)"
   ]
  },
  {
   "cell_type": "markdown",
   "id": "8a135e15",
   "metadata": {},
   "source": [
    "#2 Check whether the given letter is present in the string or not"
   ]
  },
  {
   "cell_type": "code",
   "execution_count": 34,
   "id": "28c999c8",
   "metadata": {},
   "outputs": [],
   "source": [
    "def check_string():\n",
    "    n = input('Enter the String: ')\n",
    "    if 's' in n or 'S' in n:\n",
    "        print('The Given String contains the Letter S')\n",
    "        \n",
    "    else:\n",
    "        print('The Given string does not contain letter S')"
   ]
  },
  {
   "cell_type": "code",
   "execution_count": 35,
   "id": "d93b5ee5",
   "metadata": {},
   "outputs": [
    {
     "name": "stdout",
     "output_type": "stream",
     "text": [
      "Enter the String: Hi Hello were are You\n",
      "The Given string does not contain letter S\n"
     ]
    }
   ],
   "source": [
    "check_string()"
   ]
  },
  {
   "cell_type": "code",
   "execution_count": 36,
   "id": "6f3dc139",
   "metadata": {},
   "outputs": [
    {
     "name": "stdout",
     "output_type": "stream",
     "text": [
      "Enter the String: Shiva your parcel has delivered Today\n",
      "The Given String contains the Letter S\n"
     ]
    }
   ],
   "source": [
    "check_string()"
   ]
  },
  {
   "cell_type": "raw",
   "id": "fdb4f614",
   "metadata": {},
   "source": [
    "# In the given string check the given letter repeted no. of times"
   ]
  },
  {
   "cell_type": "code",
   "execution_count": 50,
   "id": "a4837d68",
   "metadata": {},
   "outputs": [],
   "source": [
    "def check_String():\n",
    "    Sentence = input('Enter the String: ')\n",
    "    n = input('Enter the letter: ')\n",
    "    count=0\n",
    "    \n",
    "    for i in Sentence:\n",
    "        if n.lower() == i or n.upper()==i:\n",
    "            count = count+1\n",
    "        else:\n",
    "            pass\n",
    "    print(f'The Given String contains {n}', count)"
   ]
  },
  {
   "cell_type": "code",
   "execution_count": 51,
   "id": "50336b3d",
   "metadata": {},
   "outputs": [
    {
     "name": "stdout",
     "output_type": "stream",
     "text": [
      "Enter the String: SSSsssS\n",
      "Enter the letter: s\n",
      "The Given String contains s 7\n"
     ]
    }
   ],
   "source": [
    "check_String()"
   ]
  },
  {
   "cell_type": "code",
   "execution_count": 53,
   "id": "f2bc79e1",
   "metadata": {},
   "outputs": [],
   "source": [
    "#3 Double the no. using Lamba function"
   ]
  },
  {
   "cell_type": "code",
   "execution_count": 54,
   "id": "19a241d1",
   "metadata": {},
   "outputs": [],
   "source": [
    "num = lambda X : X*2"
   ]
  },
  {
   "cell_type": "code",
   "execution_count": 56,
   "id": "29918872",
   "metadata": {},
   "outputs": [
    {
     "data": {
      "text/plain": [
       "16"
      ]
     },
     "execution_count": 56,
     "metadata": {},
     "output_type": "execute_result"
    }
   ],
   "source": [
    "num(8)"
   ]
  },
  {
   "cell_type": "code",
   "execution_count": 57,
   "id": "0726255c",
   "metadata": {},
   "outputs": [],
   "source": [
    "#3 Multiply the given no. using Lamba function"
   ]
  },
  {
   "cell_type": "code",
   "execution_count": 58,
   "id": "6dccdbcc",
   "metadata": {},
   "outputs": [],
   "source": [
    "mul = lambda x,y : x*y"
   ]
  },
  {
   "cell_type": "code",
   "execution_count": 59,
   "id": "7ff24fa2",
   "metadata": {},
   "outputs": [
    {
     "data": {
      "text/plain": [
       "20"
      ]
     },
     "execution_count": 59,
     "metadata": {},
     "output_type": "execute_result"
    }
   ],
   "source": [
    "mul(5,4)"
   ]
  },
  {
   "cell_type": "code",
   "execution_count": 60,
   "id": "ae27c4be",
   "metadata": {},
   "outputs": [],
   "source": [
    "#4 Check whether the given string is Palindrome or not"
   ]
  },
  {
   "cell_type": "code",
   "execution_count": 62,
   "id": "729ca7b5",
   "metadata": {},
   "outputs": [],
   "source": [
    "def Palindrome():\n",
    "    sentence = input('Enter the String: ')\n",
    "    \n",
    "    if sentence == sentence[::-1]:\n",
    "        print('The Given string is palindrome')\n",
    "        \n",
    "    else:\n",
    "        print('The given string is not Palindrome')"
   ]
  },
  {
   "cell_type": "code",
   "execution_count": 66,
   "id": "fb9862b9",
   "metadata": {},
   "outputs": [
    {
     "name": "stdout",
     "output_type": "stream",
     "text": [
      "Enter the String: ShivavihS\n",
      "The Given string is palindrome\n"
     ]
    }
   ],
   "source": [
    "Palindrome()"
   ]
  },
  {
   "cell_type": "code",
   "execution_count": 67,
   "id": "9f52a9fb",
   "metadata": {},
   "outputs": [
    {
     "name": "stdout",
     "output_type": "stream",
     "text": [
      "Enter the String: Shia a\n",
      "The given string is not Palindrome\n"
     ]
    }
   ],
   "source": [
    "Palindrome()"
   ]
  },
  {
   "cell_type": "markdown",
   "id": "2f857e13",
   "metadata": {},
   "source": [
    "6. Create a class named ‘Super’ and inside that class define a user-defined function named\n",
    "fun1.\n",
    "a. Inside the ‘fun1’ function, pass the message “This is function 1 in the Super class.”\n",
    "in the print statement."
   ]
  },
  {
   "cell_type": "code",
   "execution_count": 69,
   "id": "e9956e36",
   "metadata": {},
   "outputs": [],
   "source": [
    "class Super:\n",
    "    def fun1(self):\n",
    "        print('This is function 1 in the super class')\n",
    "        \n",
    "obj = Super()"
   ]
  },
  {
   "cell_type": "code",
   "execution_count": 70,
   "id": "a0e0b467",
   "metadata": {},
   "outputs": [
    {
     "name": "stdout",
     "output_type": "stream",
     "text": [
      "This is function 1 in the super class\n"
     ]
    }
   ],
   "source": [
    "obj.fun1()"
   ]
  },
  {
   "cell_type": "markdown",
   "id": "019b3b94",
   "metadata": {},
   "source": [
    "7. Create another class named ‘Modified_Super’ and inherit this class from the Super class.\n",
    "a. Inside the Modified_Super class, create a function named ‘fun1’ and pass the\n",
    "following message inside the print statement: ‘This is function 1 in the Modified\n",
    "Super class.’\n",
    "b. Create another user-defined function named ‘fun2’ and pass the message: ‘This is\n",
    "the 2nd function from the Modified Super class’ in the print statement.\n",
    "c. After that, now create an object for the Modified_Super class and call the fun1()."
   ]
  },
  {
   "cell_type": "markdown",
   "id": "eb55576e",
   "metadata": {},
   "source": [
    "9. Create a method named ‘Sum’ that can accept multiple user inputs. Now add those userdefined\n",
    "input values using for loop and the function should return the addition of the numbers."
   ]
  },
  {
   "cell_type": "code",
   "execution_count": 93,
   "id": "d31e1090",
   "metadata": {},
   "outputs": [],
   "source": [
    "def Sum():\n",
    "    n = list(input('Enter the list of Elements: '))\n",
    "    print(n)\n",
    "    s=0\n",
    "    \n",
    "    for i in n:\n",
    "        s = s+int(i)\n",
    "    return s"
   ]
  },
  {
   "cell_type": "code",
   "execution_count": 94,
   "id": "3ab2629d",
   "metadata": {},
   "outputs": [
    {
     "name": "stdout",
     "output_type": "stream",
     "text": [
      "Enter the list of Elements: 123456789\n",
      "['1', '2', '3', '4', '5', '6', '7', '8', '9']\n"
     ]
    },
    {
     "data": {
      "text/plain": [
       "45"
      ]
     },
     "execution_count": 94,
     "metadata": {},
     "output_type": "execute_result"
    }
   ],
   "source": [
    "Sum()"
   ]
  },
  {
   "cell_type": "code",
   "execution_count": 105,
   "id": "96381031",
   "metadata": {},
   "outputs": [],
   "source": [
    "def Sum():\n",
    "    n = set(input('Enter the list of Elements: '))\n",
    "    print(n)\n",
    "    s=0\n",
    "    \n",
    "    for i in n:\n",
    "        s = s+int(i)\n",
    "    return s"
   ]
  },
  {
   "cell_type": "code",
   "execution_count": 106,
   "id": "c34b0d0f",
   "metadata": {},
   "outputs": [
    {
     "name": "stdout",
     "output_type": "stream",
     "text": [
      "Enter the list of Elements: 123456789\n",
      "{'2', '5', '3', '9', '4', '8', '7', '1', '6'}\n"
     ]
    },
    {
     "data": {
      "text/plain": [
       "45"
      ]
     },
     "execution_count": 106,
     "metadata": {},
     "output_type": "execute_result"
    }
   ],
   "source": [
    "Sum()"
   ]
  },
  {
   "cell_type": "code",
   "execution_count": 111,
   "id": "7d059f1b",
   "metadata": {},
   "outputs": [],
   "source": [
    "def Sum():\n",
    "    n = []\n",
    "    m = int(input('Enter the no. of Elements: '))\n",
    "    for i in range(m):\n",
    "        n.append(int(input('Enter the Element: ')))\n",
    "    print(n)\n",
    "    s=0\n",
    "    \n",
    "    for i in n:\n",
    "        s = s+i\n",
    "    return s"
   ]
  },
  {
   "cell_type": "code",
   "execution_count": 112,
   "id": "1266ceb4",
   "metadata": {},
   "outputs": [
    {
     "name": "stdout",
     "output_type": "stream",
     "text": [
      "Enter the no. of Elements: 5\n",
      "Enter the Element: 1\n",
      "Enter the Element: 58\n",
      "Enter the Element: 45\n",
      "Enter the Element: 20\n",
      "Enter the Element: 6\n",
      "[1, 58, 45, 20, 6]\n"
     ]
    },
    {
     "data": {
      "text/plain": [
       "130"
      ]
     },
     "execution_count": 112,
     "metadata": {},
     "output_type": "execute_result"
    }
   ],
   "source": [
    "Sum()"
   ]
  },
  {
   "cell_type": "code",
   "execution_count": null,
   "id": "888505d0",
   "metadata": {},
   "outputs": [],
   "source": []
  }
 ],
 "metadata": {
  "kernelspec": {
   "display_name": "Python 3 (ipykernel)",
   "language": "python",
   "name": "python3"
  },
  "language_info": {
   "codemirror_mode": {
    "name": "ipython",
    "version": 3
   },
   "file_extension": ".py",
   "mimetype": "text/x-python",
   "name": "python",
   "nbconvert_exporter": "python",
   "pygments_lexer": "ipython3",
   "version": "3.9.12"
  }
 },
 "nbformat": 4,
 "nbformat_minor": 5
}
